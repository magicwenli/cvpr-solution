{
 "cells": [
  {
   "cell_type": "markdown",
   "metadata": {},
   "source": [
    "# 计算机视觉与模式识别作业三\n",
    "\n",
    "| 姓名 | 杨雪念   | 学号 | 2160901020 |\n",
    "| ---- | -------- | ---- | ---------- |\n",
    "| 班级 | 计算机82 | 得分 |            |\n"
   ]
  },
  {
   "cell_type": "code",
   "execution_count": 34,
   "metadata": {
    "pycharm": {
     "name": "#%%\n"
    }
   },
   "outputs": [
    {
     "name": "stdout",
     "output_type": "stream",
     "text": [
      "0: x = 572, y = 572\n",
      "1: x = 569, y = 569\n",
      "2: x = 452, y = 572\n",
      "3: x = 455, y = 569\n",
      "4: x = 452, y = 452\n",
      "5: x = 455, y = 455\n",
      "6: x = 572, y = 452\n",
      "7: x = 569, y = 455\n"
     ]
    },
    {
     "data": {
      "image/png": "[encoded data removed]",
      "text/plain": [
       "<Figure size 432x288 with 2 Axes>"
      ]
     },
     "metadata": {
      "needs_background": "light"
     },
     "output_type": "display_data"
    }
   ],
   "source": [
    "'''\n",
    "Question 1  (1) 计算这 8 个顶点在图像平面的像素值\n",
    "'''\n",
    "\n",
    "import matplotlib.pyplot as plt\n",
    "\n",
    "\n",
    "def real2ImgCrd(mat):\n",
    "    x, y, z = mat\n",
    "    f_m = 50  # mm\n",
    "    w_ccd = 21.8  # mm\n",
    "    h_ccd = 21.8  # mm\n",
    "    p_x = 512  # px\n",
    "    p_y = 512  # px\n",
    "    w_img = 1024  # px\n",
    "    h_img = 1024  # px\n",
    "    u_img = f_m * w_img * x / w_ccd / z + p_x\n",
    "    v_img = f_m * h_img * y / h_ccd / z + p_y\n",
    "    return u_img, v_img\n",
    "\n",
    "\n",
    "cube = [\n",
    "    [0.5, 0.5, 19.5],\n",
    "    [0.5, 0.5, 20.5],\n",
    "    [-0.5, 0.5, 19.5],\n",
    "    [-0.5, 0.5, 20.5],\n",
    "    [-0.5, -0.5, 19.5],\n",
    "    [-0.5, -0.5, 20.5],\n",
    "    [0.5, -0.5, 19.5],\n",
    "    [0.5, -0.5, 20.5]\n",
    "]\n",
    "\n",
    "x_img = []\n",
    "y_img = []\n",
    "\n",
    "for i, c in enumerate(cube):\n",
    "    x, y = real2ImgCrd(c)\n",
    "    print(\"{}: x = {}, y = {}\".format(i, round(x), round(y)))\n",
    "    x_img.append(round(x))\n",
    "    y_img.append(round(y))\n",
    "\n",
    "plt.figure()\n",
    "\n",
    "# figure with image border\n",
    "plt.subplot(1,2,1)\n",
    "ax = plt.gca()\n",
    "ax.xaxis.set_ticks_position('top')  #将x轴的位置设置在顶部\n",
    "ax.yaxis.set_ticks_position('left')  #将y轴的位置设置在右边\n",
    "ax.invert_yaxis()  #y轴反向\n",
    "plt.scatter(x_img, y_img)\n",
    "plt.xlabel(\"X\")\n",
    "plt.ylabel(\"Y\")\n",
    "plt.gca().add_patch(plt.Rectangle([0, 0], 1024, 1024,fill=False,color='purple'))\n",
    "plt.axis('equal')\n",
    "plt.title('with border')\n",
    "# plt.xlim(0,1024)\n",
    "# plt.ylim(0,1024)\n",
    "\n",
    "# figure without image border\n",
    "plt.subplot(1,2,2)\n",
    "ax = plt.gca()\n",
    "ax.xaxis.set_ticks_position('top')  #将x轴的位置设置在顶部\n",
    "ax.yaxis.set_ticks_position('left')  #将y轴的位置设置在右边\n",
    "ax.invert_yaxis()  #y轴反向\n",
    "plt.scatter(x_img, y_img)\n",
    "plt.xlabel(\"X\")\n",
    "plt.axis('equal')\n",
    "plt.title('without border')\n",
    "plt.show()\n"
   ]
  },
  {
   "cell_type": "code",
   "execution_count": null,
   "metadata": {
    "pycharm": {
     "name": "#%%\n"
    }
   },
   "outputs": [],
   "source": [
    "'''\n",
    "Question 1 (2)分析这 8 个顶点的遮挡关系\n",
    "'''\n",
    "\n",
    "# 如上图所示，由于立方体正对视线，所以立方体的四个顶点具有透视关系。\n",
    "# 相对靠外的四个点在后面，靠前的点在前面。\n",
    "\n"
   ]
  },
  {
   "cell_type": "code",
   "execution_count": 38,
   "metadata": {
    "pycharm": {
     "name": "#%%\n"
    }
   },
   "outputs": [
    {
     "name": "stdout",
     "output_type": "stream",
     "text": [
      "In real world 0: [10.18, 0.50, 16.64].\tIn img 0: [ 1949, 583 ]\n",
      "In real world 1: [10.68, 0.50, 17.50].\tIn img 1: [ 1945, 579 ]\n",
      "In real world 2: [9.32, 0.50, 17.14].\tIn img 2: [ 1789, 581 ]\n",
      "In real world 3: [9.82, 0.50, 18.00].\tIn img 3: [ 1793, 577 ]\n",
      "In real world 4: [9.32, -0.50, 17.14].\tIn img 4: [ 1789, 443 ]\n",
      "In real world 5: [9.82, -0.50, 18.00].\tIn img 5: [ 1793, 447 ]\n",
      "In real world 6: [10.18, -0.50, 16.64].\tIn img 6: [ 1949, 441 ]\n",
      "In real world 7: [10.68, -0.50, 17.50].\tIn img 7: [ 1945, 445 ]\n"
     ]
    },
    {
     "data": {
      "image/png": "[encoded data removed]",
      "text/plain": [
       "<Figure size 432x288 with 2 Axes>"
      ]
     },
     "metadata": {
      "needs_background": "light"
     },
     "output_type": "display_data"
    }
   ],
   "source": [
    "'''\n",
    "Question 1 (3)如果这立方体绕着 y 轴旋转 30°，尝试计算他们在三维空间的新的坐标和成像\n",
    "'''\n",
    "\n",
    "import matplotlib.pyplot as plt\n",
    "import numpy as np\n",
    "from scipy import linalg\n",
    "\n",
    "\n",
    "def real2ImgCrd(mat):\n",
    "    x, y, z = mat\n",
    "    f_m = 50  # mm\n",
    "    w_ccd = 21.8  # mm\n",
    "    h_ccd = 21.8  # mm\n",
    "    p_x = 512  # px\n",
    "    p_y = 512  # px\n",
    "    w_img = 1024  # px\n",
    "    h_img = 1024  # px\n",
    "    u_img = f_m * w_img * x / w_ccd / z + p_x\n",
    "    v_img = f_m * h_img * y / h_ccd / z + p_y\n",
    "    return u_img, v_img\n",
    "\n",
    "\n",
    "# 计算旋转矩阵 https://blog.csdn.net/youngdianfeng/article/details/113142805\n",
    "def rotate_mat(axis=[0, 1, 0], radian=30):\n",
    "    \"\"\"\n",
    "    :param axis: 旋转轴\n",
    "    :param radian: 欧拉角\n",
    "    :return: 旋转矩阵\n",
    "    \"\"\"\n",
    "    radian = radian * np.pi / 180\n",
    "    \"\"\"\n",
    "    np.eye(x)： 生成一个x维的，只有主对角线为1，其他位置为0的矩阵\n",
    "    np.linalg.norm(): 求矩阵的2范数\n",
    "    np.cross(x,y): 矩阵x和y的叉乘\n",
    "    \"\"\"\n",
    "    rot_matrix = linalg.expm(np.cross(np.eye(3), axis / np.linalg.norm(axis) * radian))\n",
    "    return rot_matrix\n",
    "\n",
    "\n",
    "cube = [\n",
    "    [0.5, 0.5, 19.5],\n",
    "    [0.5, 0.5, 20.5],\n",
    "    [-0.5, 0.5, 19.5],\n",
    "    [-0.5, 0.5, 20.5],\n",
    "    [-0.5, -0.5, 19.5],\n",
    "    [-0.5, -0.5, 20.5],\n",
    "    [0.5, -0.5, 19.5],\n",
    "    [0.5, -0.5, 20.5]\n",
    "]\n",
    "\n",
    "x_img = []\n",
    "y_img = []\n",
    "r_mat = rotate_mat()\n",
    "for i, c in enumerate(cube):\n",
    "    rotated = np.dot(r_mat, c)\n",
    "    x, y = real2ImgCrd(rotated)\n",
    "    print(\"In real world {}: [{:.2f}, {:.2f}, {:.2f}].\\tIn img {}: [ {}, {} ]\".format(i, rotated[0], rotated[1],\n",
    "                                                                                     rotated[2], i, round(x), round(y)))\n",
    "    x_img.append(round(x))\n",
    "    y_img.append(round(y))\n",
    "\n",
    "plt.figure()\n",
    "\n",
    "# figure with image border\n",
    "plt.subplot(1,2,1)\n",
    "ax = plt.gca()\n",
    "ax.xaxis.set_ticks_position('top')  #将x轴的位置设置在顶部\n",
    "ax.yaxis.set_ticks_position('left')  #将y轴的位置设置在右边\n",
    "ax.invert_yaxis()  #y轴反向\n",
    "plt.scatter(x_img, y_img)\n",
    "plt.xlabel(\"X\")\n",
    "plt.ylabel(\"Y\")\n",
    "plt.gca().add_patch(plt.Rectangle([0, 0], 1024, 1024,fill=False,color='purple'))\n",
    "plt.axis('equal')\n",
    "# plt.xlim(0,1024)\n",
    "# plt.ylim(0,1024)\n",
    "\n",
    "# figure without image border\n",
    "plt.subplot(1,2,2)\n",
    "ax = plt.gca()\n",
    "ax.xaxis.set_ticks_position('top')  #将x轴的位置设置在顶部\n",
    "ax.yaxis.set_ticks_position('left')  #将y轴的位置设置在右边\n",
    "ax.invert_yaxis()\n",
    "plt.scatter(x_img, y_img)\n",
    "plt.xlabel(\"X\")\n",
    "\n",
    "plt.show()"
   ]
  },
  {
   "cell_type": "code",
   "execution_count": null,
   "metadata": {
    "pycharm": {
     "name": "#%%\n"
    }
   },
   "outputs": [],
   "source": [
    "'''\n",
    "Question 2 尝试解释 dolly zoom 现象。\n",
    "'''\n",
    "\n",
    "# dolly zoom 中文名滑动变焦。设相机和人之间的距离为Z，焦距为f。\n",
    "# 根据本节课程的学习，在物像大小不变的情况下，Z与f成线性关系。\n",
    "#   Z=kf+b\n",
    "# 即在增大拍摄距离的同时增加焦距，即可实现滑动变焦的效果。\n",
    "# 对于观众而言，影片的主体大小没有变化，但背景却发生了拉伸，形成了特殊的视觉效果。"
   ]
  }
 ],
 "metadata": {
  "kernelspec": {
   "display_name": "Python 3",
   "language": "python",
   "name": "python3"
  },
  "language_info": {
   "codemirror_mode": {
    "name": "ipython",
    "version": 3
   },
   "file_extension": ".py",
   "mimetype": "text/x-python",
   "name": "python",
   "nbconvert_exporter": "python",
   "pygments_lexer": "ipython3",
   "version": "3.9.2"
  }
 },
 "nbformat": 4,
 "nbformat_minor": 1
}