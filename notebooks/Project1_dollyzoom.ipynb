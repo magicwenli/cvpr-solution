{
 "cells": [
  {
   "cell_type": "code",
   "execution_count": 17,
   "metadata": {
    "colab": {
     "base_uri": "https://localhost:8080/",
     "height": 130
    },
    "colab_type": "code",
    "executionInfo": {
     "elapsed": 801,
     "status": "error",
     "timestamp": 1573677820159,
     "user": {
      "displayName": "Caitlin Coad",
      "photoUrl": "",
      "userId": "10725198328760254173"
     },
     "user_tz": 300
    },
    "id": "aRwMqYMGJdst",
    "outputId": "05ddc3b4-66a2-440a-8dce-fd452997af28"
   },
   "outputs": [
    {
     "name": "stdout",
     "output_type": "stream",
     "text": [
      "h1=400.0, h11=400.0\n",
      "h2=120.0, h22=200.0\n",
      "radio=2.0\n"
     ]
    }
   ],
   "source": [
    "\n",
    "'''\n",
    "Function (modify)\n",
    "'''\n",
    "\n",
    "\n",
    "def compute_f_pos(d1_ref, d2_ref, H1, H2, ratio, f_ref):\n",
    "    \"\"\"\n",
    "    compute camera focal length and camera position to achieve certain ratio\n",
    "    between objects\n",
    "\n",
    "    Input:\n",
    "    - d1_ref: distance of the first object\n",
    "    - d2_ref: distance of the second object\n",
    "    - H1: height of the first object in physical world\n",
    "    - H2: height of the second object in physical world\n",
    "    - ratio: ratio between two objects (h1/h2)\n",
    "    - f_ref: 1 by 1 double, previous camera focal length\n",
    "    Output:\n",
    "    - f: 1 by 1, camera focal length\n",
    "    - pos: 1 by 1, camera position\n",
    "    \"\"\"\n",
    "\n",
    "    # IMPLEMENT HERE\n",
    "    r = H2 * ratio / H1\n",
    "    pos = (d1_ref * r - d2_ref) / (r - 1)\n",
    "    f = f_ref * (d1_ref - pos) / d1_ref\n",
    "\n",
    "    h1 = f_ref * H1 / d1_ref\n",
    "    h11 = f * H1 / (d1_ref - pos)\n",
    "    h2 = f_ref * H2 / d2_ref\n",
    "    h22 = f * H2 / (d2_ref - pos)\n",
    "    r = (f_ref * H1) / (f * H2) * (d2_ref - pos) / d1_ref\n",
    "    print('h1={}, h11={}\\nh2={}, h22={}\\nradio={}'.format(h1, h11, h2, h22, r))\n",
    "\n",
    "    return f, pos\n",
    "\n",
    "\n",
    "'''\n",
    "Test\n",
    "'''\n",
    "d1_ref = 4\n",
    "d2_ref = 20\n",
    "H1 = 4\n",
    "H2 = 6\n",
    "ratio = 2\n",
    "f_ref = 400\n",
    "f, pos = compute_f_pos(d1_ref, d2_ref, H1, H2, ratio, f_ref)"
   ]
  },
  {
   "cell_type": "code",
   "execution_count": 18,
   "metadata": {
    "colab": {},
    "colab_type": "code",
    "id": "2d68CUI2MMtc",
    "pycharm": {
     "name": "#%%\n"
    }
   },
   "outputs": [],
   "source": [
    "'''\n",
    "Function (modify)\n",
    "'''\n",
    "\n",
    "\n",
    "def compute_focal_length(d_ref, f_ref, pos):\n",
    "    \"\"\"\n",
    "    compute camera focal length using given camera position\n",
    "\n",
    "    Input:\n",
    "    - d_ref: 1 by 1 double, distance of the object whose size remains constant\n",
    "    - f_ref: 1 by 1 double, previous camera focal length\n",
    "    - pos: 1 by n, each element represent camera center position on the z axis.\n",
    "    Output:\n",
    "    - f: 1 by n, camera focal length\n",
    "    \"\"\"\n",
    "    # IMPLEMENT HERE\n",
    "    f = f_ref * (d_ref - pos) / d_ref\n",
    "\n",
    "    return f\n",
    "\n",
    "\n",
    "'''\n",
    "Test\n",
    "'''\n",
    "d_ref = 4\n",
    "f_ref = 400\n",
    "pos = -5\n",
    "f = compute_focal_length(d_ref, f_ref, pos)"
   ]
  }
 ],
 "metadata": {
  "colab": {
   "collapsed_sections": [],
   "name": "learner_template.ipynb",
   "provenance": []
  },
  "kernelspec": {
   "display_name": "Python 3",
   "language": "python",
   "name": "python3"
  },
  "language_info": {
   "codemirror_mode": {
    "name": "ipython",
    "version": 3
   },
   "file_extension": ".py",
   "mimetype": "text/x-python",
   "name": "python",
   "nbconvert_exporter": "python",
   "pygments_lexer": "ipython3",
   "version": "3.9.2"
  }
 },
 "nbformat": 4,
 "nbformat_minor": 1
}