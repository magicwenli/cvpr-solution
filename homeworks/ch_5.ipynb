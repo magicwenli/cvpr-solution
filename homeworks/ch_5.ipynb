{
 "cells": [
  {
   "cell_type": "code",
   "execution_count": 1,
   "metadata": {
    "collapsed": true
   },
   "outputs": [],
   "source": [
    "import numpy as np\n",
    "from scipy import signal\n",
    "\n",
    "img = np.array([[111, 112, 113, 114, 115, 114, 113, 112, 111, 110],\n",
    "                [110, 111, 112, 113, 114, 115, 114, 113, 112, 111],\n",
    "                [109, 110, 111, 112, 113, 114, 115, 114, 113, 112],\n",
    "                [108, 109, 110, 111, 112, 113, 114, 115, 114, 113],\n",
    "                [107, 108, 109, 110, 111, 112, 113, 114, 115, 114]])\n",
    "tmp = np.array([[1 / 9, 1 / 9, 1 / 9],\n",
    "                [1 / 9, 1 / 9, 1 / 9],\n",
    "                [1 / 9, 1 / 9, 1 / 9]])\n",
    "# convolve2d 二维卷积运算，等价于旋转180度的模板运算\n",
    "img1 = signal.convolve2d(img, np.rot90(tmp, 2), mode='same')\n",
    "img2 = signal.convolve2d(img1, np.rot90(tmp, 2), mode='same')\n",
    "img3 = img2\n",
    "for i in range(1000):\n",
    "    img3 = signal.convolve2d(img3, np.rot90(tmp, 2), mode='same')"
   ]
  },
  {
   "cell_type": "code",
   "execution_count": 2,
   "outputs": [],
   "source": [
    "import numpy as np\n",
    "from scipy import signal\n",
    "\n",
    "img = np.array([[111, 112, 113, 114, 115, 114, 113, 112, 111, 110],\n",
    "                [110, 111, 112, 113, 114, 115, 114, 113, 112, 111],\n",
    "                [109, 110, 111, 112, 113, 114, 115, 114, 113, 112],\n",
    "                [108, 109, 110, 111, 112, 113, 114, 115, 114, 113],\n",
    "                [107, 108, 109, 110, 111, 112, 113, 114, 115, 114]])\n",
    "tmp = np.array([[0, 0, 0, 0, 0],\n",
    "                [0, 0, 0, 0, 0],\n",
    "                [0, 0, 0, 0, 0],\n",
    "                [0, 0, 0, 0, 0],\n",
    "                [1, 0, 0, 0, 0], ])\n",
    "\n",
    "img1 = np.around(signal.convolve2d(img, np.rot90(tmp, 2), mode='same'))"
   ],
   "metadata": {
    "collapsed": false,
    "pycharm": {
     "name": "#%%\n"
    }
   }
  },
  {
   "cell_type": "code",
   "execution_count": 3,
   "outputs": [
    {
     "name": "stdout",
     "output_type": "stream",
     "text": [
      "[[ 2.05000000e+01 -1.11522125e+00 -9.42055475e-16 -7.92563339e-02]\n",
      " [-6.42072944e+00 -1.45710678e+00  3.33066907e-16 -1.03553391e-01]\n",
      " [-1.50000000e+00 -1.11522125e+00  0.00000000e+00 -7.92563339e-02]\n",
      " [-1.12881949e+00 -6.03553391e-01  0.00000000e+00 -4.28932188e-02]]\n"
     ]
    }
   ],
   "source": [
    "#DCT\n",
    "from math import sqrt, cos\n",
    "\n",
    "\n",
    "def dct_trans(img):\n",
    "    def alpha(u, X):\n",
    "        if u == 0:\n",
    "            return sqrt(1 / X)\n",
    "        elif u <= X - 1:\n",
    "            return sqrt(2 / X)\n",
    "        else:\n",
    "            raise TypeError\n",
    "\n",
    "    def cos_mat(u, v, X, Y):\n",
    "        mat = np.ones([X, Y])\n",
    "        for x in range(X):\n",
    "            for y in range(Y):\n",
    "                # print(cos(np.pi * (2 * x + 1) * u / 2 / X))\n",
    "                mat[x][y] = cos(np.pi * (2 * x + 1) * u / 2 / X) * cos(np.pi * (2 * y + 1) * v / 2 / Y)\n",
    "        return mat\n",
    "\n",
    "    [X, Y] = img.shape\n",
    "    mat = np.ones([X, Y])\n",
    "    for u in range(X):\n",
    "        for v in range(Y):\n",
    "            a_u = alpha(u, X)\n",
    "            a_v = alpha(v, Y)\n",
    "            cos_XY = cos_mat(u, v, X, Y)\n",
    "            mat[u][v] = a_u * a_v * np.sum(np.multiply(img, cos_XY))\n",
    "    return mat\n",
    "\n",
    "\n",
    "img = np.array([[1, 2, 3, 4],\n",
    "                [5, 5, 5, 5],\n",
    "                [6, 6, 6, 6],\n",
    "                [7, 7, 7, 7]])\n",
    "\n",
    "# 8个格子\n",
    "dct = dct_trans(img)\n",
    "print(dct)"
   ],
   "metadata": {
    "collapsed": false,
    "pycharm": {
     "name": "#%%\n"
    }
   }
  },
  {
   "cell_type": "code",
   "execution_count": 2,
   "outputs": [
    {
     "name": "stdout",
     "output_type": "stream",
     "text": [
      "full: (130, 333), same: (124, 325), valid: (118, 317)\n"
     ]
    }
   ],
   "source": [
    "img = np.ones([124, 325])\n",
    "tmp = np.ones([7, 9])\n",
    "\n",
    "img1 = np.around(signal.convolve2d(img, np.rot90(tmp, 2), mode='full'))\n",
    "img2 = np.around(signal.convolve2d(img, np.rot90(tmp, 2), mode='same'))\n",
    "img3 = np.around(signal.convolve2d(img, np.rot90(tmp, 2), mode='valid'))\n",
    "print('full: {}, same: {}, valid: {}'.format(img1.shape, img2.shape, img3.shape))"
   ],
   "metadata": {
    "collapsed": false,
    "pycharm": {
     "name": "#%%\n"
    }
   }
  },
  {
   "cell_type": "code",
   "execution_count": 8,
   "outputs": [
    {
     "name": "stdout",
     "output_type": "stream",
     "text": [
      "[[-2  3  2]\n",
      " [-5  4  5]\n",
      " [-4  3  4]]\n",
      "\n",
      "[[-2  3  2]\n",
      " [-5  4  5]\n",
      " [-4  3  4]]\n"
     ]
    }
   ],
   "source": [
    "# 题目说的是卷积运算，不是模板运算\n",
    "\n",
    "I = np.asarray([[0, 1, -1], [2, 1, 0], [0, 3, -1]])\n",
    "f_x = np.asarray([[0, 0, 0], [-1, 0, 1], [0, 0, 0]])\n",
    "f_y = np.asarray([[0, 1, 0], [0, 1, 0], [0, 1, 0]])\n",
    "\n",
    "g1 = signal.convolve2d(signal.convolve2d(I, f_x, 'same'), f_y, 'same')\n",
    "g2 = signal.convolve2d(I, signal.convolve2d(f_x, f_y, 'same'), 'same')\n",
    "\n",
    "print(g1)\n",
    "print()\n",
    "print(g2)\n",
    "\n",
    "print(\"滤波器的作用是求水平方向的导数。\")"
   ],
   "metadata": {
    "collapsed": false,
    "pycharm": {
     "name": "#%%\n"
    }
   }
  }
 ],
 "metadata": {
  "kernelspec": {
   "display_name": "Python 3",
   "language": "python",
   "name": "python3"
  },
  "language_info": {
   "codemirror_mode": {
    "name": "ipython",
    "version": 2
   },
   "file_extension": ".py",
   "mimetype": "text/x-python",
   "name": "python",
   "nbconvert_exporter": "python",
   "pygments_lexer": "ipython2",
   "version": "2.7.6"
  }
 },
 "nbformat": 4,
 "nbformat_minor": 0
}