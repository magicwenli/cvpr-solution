{
 "cells": [
  {
   "cell_type": "markdown",
   "metadata": {
    "collapsed": true,
    "pycharm": {
     "name": "#%% md\n"
    }
   },
   "source": [
    "### 分别从图像 1 和图像 2 中抠出来两个5 × 5的图像块\n",
    "分别计算\n",
    "\n",
    "（1） 图像块 1 和图像块 2 的 SAD 误差；\n",
    "\n",
    "（2） 图像块 1 和图像块 2 的 MSE 误差；\n",
    "\n",
    "（3） 图像块 1 和图像块 2 的 NCC 误差"
   ]
  },
  {
   "cell_type": "code",
   "execution_count": 87,
   "metadata": {
    "pycharm": {
     "name": "#%%\n"
    }
   },
   "outputs": [
    {
     "name": "stdout",
     "output_type": "stream",
     "text": [
      "[[ 1  2  3  4  5]\n",
      " [ 6  7  8  9 10]\n",
      " [11 12 13 14 15]\n",
      " [16 17 18 19 20]\n",
      " [21 22 23 24 25]]\n",
      "\n",
      "[[11 12 13 14 15]\n",
      " [16 17 18 19 20]\n",
      " [21 22 23 24 25]\n",
      " [26 27 28 29 30]\n",
      " [31 32 33 34 35]]\n"
     ]
    }
   ],
   "source": [
    "import numpy as np\n",
    "import cv2\n",
    "import matplotlib.pyplot as plt\n",
    "from scipy.signal import convolve2d\n",
    "\n",
    "\n",
    "img_1 = np.arange(25).reshape(5, 5) + 1\n",
    "img_2 = np.arange(25).reshape(5, 5) + 11\n",
    "print(img_1)\n",
    "print()\n",
    "print(img_2)\n"
   ]
  },
  {
   "cell_type": "code",
   "execution_count": 88,
   "metadata": {
    "pycharm": {
     "name": "#%%\n"
    }
   },
   "outputs": [
    {
     "name": "stdout",
     "output_type": "stream",
     "text": [
      "SAD: 250.000, MSE: 100.000, NCC: 1.000\n"
     ]
    }
   ],
   "source": [
    "# SAD(Sum Of Absolutely Difference)\n",
    "sad = np.sum(np.abs(np.subtract(img_1, img_2)))\n",
    "\n",
    "# MSE(Mean Squared Error)\n",
    "M, N = img_1.shape\n",
    "mse = np.sum(np.power(np.subtract(img_1, img_2), 2)) / (M * N)\n",
    "\n",
    "# NCC(Normalized Cross Correlation)\n",
    "ncc = np.mean(np.multiply(img_1 - np.mean(img_1), img_2 - np.mean(img_2))) / (np.std(img_1) * np.std(img_2))\n",
    "\n",
    "print(\"SAD: {:.3f}, MSE: {:.3f}, NCC: {:.3f}\".format(sad,mse,ncc))"
   ]
  },
  {
   "cell_type": "markdown",
   "metadata": {},
   "source": [
    "### 给定一幅5 × 6的图像如下所示:\n",
    "\n",
    "```\n",
    "[[0. 0. 0. 0. 0. 0.]\n",
    " [0. 0. 1. 1. 0. 0.]\n",
    " [0. 0. 1. 1. 0. 0.]\n",
    " [0. 0. 1. 1. 0. 0.]\n",
    " [0. 0. 0. 0. 0. 0.]]\n",
    "```\n",
    "(1)计算 Ix，Iy\n",
    "\n",
    "(2)利用如下的平滑模板\n",
    "\n",
    "$w(m, n)=\\left[\\begin{array}{lll}\n",
    "1 & 1 & 1 \\\\\n",
    "1 & 1 & 1 \\\\\n",
    "1 & 1 & 1\n",
    "\\end{array}\\right]$\n",
    "\n",
    "计算平滑后的lxx, lyy 和 lxy\n",
    "\n",
    "(3) 计算每一点的 corner ness，使用k = 0.04"
   ]
  },
  {
   "cell_type": "code",
   "execution_count": 89,
   "metadata": {
    "pycharm": {
     "name": "#%%\n"
    }
   },
   "outputs": [
    {
     "name": "stdout",
     "output_type": "stream",
     "text": [
      "lxx: \n",
      "[[0. 0. 0. 0. 0. 0.]\n",
      " [0. 1. 1. 1. 1. 0.]\n",
      " [0. 1. 1. 1. 1. 0.]\n",
      " [0. 1. 1. 1. 1. 0.]\n",
      " [0. 0. 0. 0. 0. 0.]]\n",
      "lyy: \n",
      "[[0. 0. 1. 1. 0. 0.]\n",
      " [0. 0. 1. 1. 0. 0.]\n",
      " [0. 0. 0. 0. 0. 0.]\n",
      " [0. 0. 1. 1. 0. 0.]\n",
      " [0. 0. 1. 1. 0. 0.]]\n",
      "lxy: \n",
      "[[ 0.  0.  0.  0.  0.  0.]\n",
      " [ 0.  0.  1. -1.  0.  0.]\n",
      " [ 0.  0.  0.  0.  0.  0.]\n",
      " [ 0.  0. -1.  1.  0.  0.]\n",
      " [ 0.  0.  0.  0.  0.  0.]]\n",
      "\n"
     ]
    }
   ],
   "source": [
    "\n",
    "img_3 = np.zeros([5,6])\n",
    "img_3[1:4,2:4]=1\n",
    "dx = np.asarray([[1,0,-1]])\n",
    "dy = np.asarray([[1],[0],[-1]])\n",
    "\n",
    "lx = convolve2d(img_3,np.rot90(dx,2),'same')\n",
    "ly = convolve2d(img_3,np.rot90(dy,2),'same')\n",
    "\n",
    "lxx = np.multiply(lx,lx)\n",
    "lyy = np.multiply(ly,ly)\n",
    "lxy = np.multiply(lx,ly)\n",
    "lxy[lxy==0]=0\n",
    "print(\"lxx: \\n{}\\nlyy: \\n{}\\nlxy: \\n{}\\n\".format(lxx,lyy,lxy))\n"
   ]
  },
  {
   "cell_type": "code",
   "execution_count": 90,
   "metadata": {
    "pycharm": {
     "name": "#%%\n"
    }
   },
   "outputs": [
    {
     "name": "stdout",
     "output_type": "stream",
     "text": [
      "lxx: \n",
      "[[1. 2. 3. 3. 2. 1.]\n",
      " [2. 4. 6. 6. 4. 2.]\n",
      " [3. 6. 9. 9. 6. 3.]\n",
      " [2. 4. 6. 6. 4. 2.]\n",
      " [1. 2. 3. 3. 2. 1.]]\n",
      "lyy: \n",
      "[[0. 2. 4. 4. 2. 0.]\n",
      " [0. 2. 4. 4. 2. 0.]\n",
      " [0. 2. 4. 4. 2. 0.]\n",
      " [0. 2. 4. 4. 2. 0.]\n",
      " [0. 2. 4. 4. 2. 0.]]\n",
      "lxy: \n",
      "[[ 0.  1.  0.  0. -1.  0.]\n",
      " [ 0.  1.  0.  0. -1.  0.]\n",
      " [ 0.  0.  0.  0.  0.  0.]\n",
      " [ 0. -1.  0.  0.  1.  0.]\n",
      " [ 0. -1.  0.  0.  1.  0.]]\n",
      "\n",
      "corner_ness: \n",
      "[[-0.04  2.36 10.04 10.04  2.36 -0.04]\n",
      " [-0.16  5.56 20.   20.    5.56 -0.16]\n",
      " [-0.36  9.44 29.24 29.24  9.44 -0.36]\n",
      " [-0.16  5.56 20.   20.    5.56 -0.16]\n",
      " [-0.04  2.36 10.04 10.04  2.36 -0.04]]\n"
     ]
    },
    {
     "data": {
      "image/png": "[encoded data removed]",
      "text/plain": [
       "<Figure size 345.6x288 with 1 Axes>"
      ]
     },
     "metadata": {
      "needs_background": "light"
     },
     "output_type": "display_data"
    },
    {
     "data": {
      "image/png": "[encoded data removed]",
      "text/plain": [
       "<Figure size 345.6x288 with 1 Axes>"
      ]
     },
     "metadata": {
      "needs_background": "light"
     },
     "output_type": "display_data"
    }
   ],
   "source": [
    "w = np.ones([3,3])\n",
    "# 平滑\n",
    "lxx = convolve2d(lxx,np.rot90(w,2),'same')\n",
    "lyy = convolve2d(lyy,np.rot90(w,2),'same')\n",
    "lxy = convolve2d(lxy,np.rot90(w,2),'same')\n",
    "\n",
    "print(\"lxx: \\n{}\\nlyy: \\n{}\\nlxy: \\n{}\\n\".format(lxx,lyy,lxy))\n",
    "\n",
    "# 矩阵的特征值之和等于矩阵的迹，之积等于矩阵的行列式\n",
    "m,n = lxx.shape\n",
    "corner_ness = np.zeros([m,n])\n",
    "lamb1 = np.zeros([m,n])\n",
    "lamb2 = np.zeros([m,n])\n",
    "\n",
    "\n",
    "k = 0.04\n",
    "for i in range(m):\n",
    "    for j in range(n):\n",
    "        M = np.asarray([[lxx[i,j],lxy[i,j]],\n",
    "                        [lxy[i,j],lyy[i,j]]])\n",
    "        a,b = np.linalg.eig(M)[0]\n",
    "        lamb1[i,j] = a\n",
    "        lamb2[i,j] = b\n",
    "        corner_ness[i,j] = np.linalg.det(M) - k*np.power(np.trace(M),2)\n",
    "print(\"corner_ness: \\n{}\".format(corner_ness))\n",
    "\n",
    "plt.matshow(img_3)\n",
    "# plt.matshow(lamb1)\n",
    "# plt.matshow(lamb2)\n",
    "plt.matshow(corner_ness)\n",
    "plt.show()"
   ]
  }
 ],
 "metadata": {
  "kernelspec": {
   "display_name": "Python 3",
   "language": "python",
   "name": "python3"
  },
  "language_info": {
   "codemirror_mode": {
    "name": "ipython",
    "version": 3
   },
   "file_extension": ".py",
   "mimetype": "text/x-python",
   "name": "python",
   "nbconvert_exporter": "python",
   "pygments_lexer": "ipython3",
   "version": "3.9.2"
  }
 },
 "nbformat": 4,
 "nbformat_minor": 1
}