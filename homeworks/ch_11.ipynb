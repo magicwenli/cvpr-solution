{
 "cells": [
  {
   "cell_type": "markdown",
   "source": [
    "## 1 求解导数\n",
    "\n",
    "给定输入的张量是$x$，这是一个 $N \\times C_{i n} \\times w \\times h$ 的张量;\n",
    "\n",
    "给定模板的张量是$h$，这是一个$C_{\\text {out }} \\times C_{\\text {in }} \\times 3 \\times 3$的张量;\n",
    "\n",
    "进行卷积运算的参数，采用Padding = 1，然后 Stride = 1\n",
    "\n",
    "现在已知张量$y$是通过模板对输入进行模板运算的结果，如下:\n",
    "\n",
    "$$y=x \\otimes h$$\n",
    "\n",
    "其中$\\otimes$是模板运算，另外已知损失函数相对于$y$的偏导数为:\n",
    "\n",
    "$$\\frac{\\partial L}{\\partial y}$$\n",
    "\n",
    "请尝试推导:\n",
    "\n",
    "1) 损失函数相对于输入的导数$\\frac{\\partial L}{\\partial x}$\n",
    "\n",
    "不妨令\n",
    "\n",
    "$\\begin{equation}\n",
    "    X = \\left[\\begin{array}{cccccccc}\n",
    "    x_{11} & x_{12} & x_{13} & x_{14} & x_{15}  \\\\\n",
    "    x_{22} & x_{22} & x_{23} & x_{24} & x_{25}  \\\\\n",
    "    x_{33} & x_{32} & x_{33} & x_{34} & x_{35}  \\\\\n",
    "    x_{44} & x_{42} & x_{43} & x_{44} & x_{45}  \\\\\n",
    "    x_{55} & x_{52} & x_{53} & x_{54} & x_{55}\n",
    "    \\end{array}\\right]\n",
    "\\end{equation}$\n",
    "\n",
    "$\\begin{equation}\n",
    "    H=\\left[\\begin{array}{ccc}\n",
    "    h_{11} & h_{12} & h_{13} \\\\\n",
    "    h_{21} & h_{22} & h_{23} \\\\\n",
    "    h_{31} & h_{32} & h_{33}\n",
    "    \\end{array}\\right]\n",
    "\\end{equation}$\n",
    "\n",
    "由于$y=x \\otimes h$，则$Y=conv2(X,H)$\n",
    "\n",
    "$\\begin{equation}\n",
    "    Y = \\left[\\begin{array}{cccccccc}\n",
    "    y_{11} & y_{12} & y_{13} & y_{14} & y_{15}  \\\\\n",
    "    y_{22} & y_{22} & y_{23} & y_{24} & y_{25}  \\\\\n",
    "    y_{33} & y_{32} & y_{33} & y_{34} & y_{35}  \\\\\n",
    "    y_{44} & y_{42} & y_{43} & y_{44} & y_{45}  \\\\\n",
    "    y_{55} & y_{52} & y_{53} & y_{54} & y_{55}\n",
    "    \\end{array}\\right]\n",
    "\\end{equation}$\n",
    "\n",
    "下面分析$\\frac{\\partial L}{\\partial x_{11}}$\n",
    "\n",
    "$\\begin{equation}\n",
    "    X^{pad} = \\left[\\begin{array}{ccccccc}\n",
    "    0 & 0 & 0 & 0 & 0 & 0 & 0   \\\\\n",
    "    0 & x_{11} & x_{12} & x_{13} & x_{14} & x_{15} & 0    \\\\\n",
    "    0 & x_{22} & x_{22} & x_{23} & x_{24} & x_{25} & 0    \\\\\n",
    "    0 & x_{33} & x_{32} & x_{33} & x_{34} & x_{35} & 0    \\\\\n",
    "    0 & x_{44} & x_{42} & x_{43} & x_{44} & x_{45} & 0    \\\\\n",
    "    0 & x_{55} & x_{52} & x_{53} & x_{54} & x_{55} & 0    \\\\\n",
    "    0 & 0 & 0 & 0 & 0 & 0 & 0\n",
    "    \\end{array}\\right]\n",
    "\\end{equation}$\n",
    "\n",
    "$y_{ij}=\\sum_{u=0}^{2} \\sum_{v=0}^{2} X_{i+u, j+v}^{p a d} \\cdot H_{1+u, 1+v}$\n",
    "\n",
    "$\\begin{equation}y_{11} = np.sum\\left(\n",
    "    \\left[\\begin{array}{ccc}\n",
    "    0 & 0 & 0 \\\\\n",
    "    0 & x_{11} & x_{12} \\\\\n",
    "    0 & x_{21} & x_{22}\n",
    "    \\end{array}\\right] *\n",
    "    \\left[\\begin{array}{ccc}\n",
    "    h_{11} & h_{12} & h_{13} \\\\\n",
    "    h_{21} & h_{22} & h_{23} \\\\\n",
    "    h_{31} & h_{32} & h_{33}\n",
    "    \\end{array}\\right]\\right)\n",
    "\\end{equation}$\n",
    "\n",
    "$\\begin{equation}y_{12} = np.sum\\left(\n",
    "    \\left[\\begin{array}{ccc}\n",
    "    0 & 0 & 0 \\\\\n",
    "    x_{11} & x_{12} & x_{13}\\\\\n",
    "    x_{21} & x_{22} & x_{23}\n",
    "    \\end{array}\\right] *\n",
    "    \\left[\\begin{array}{ccc}\n",
    "    h_{11} & h_{12} & h_{13} \\\\\n",
    "    h_{21} & h_{22} & h_{23} \\\\\n",
    "    h_{31} & h_{32} & h_{33}\n",
    "    \\end{array}\\right] \\right)\n",
    "\\end{equation}$\n",
    "\n",
    "$\\begin{equation}y_{21} = np.sum\\left(\n",
    "    \\left[\\begin{array}{ccc}\n",
    "    0 & x_{11} & x_{12} \\\\\n",
    "    0 & x_{21} & x_{22} \\\\\n",
    "    0 & x_{31} & x_{32}\n",
    "    \\end{array}\\right] *\n",
    "    \\left[\\begin{array}{ccc}\n",
    "    h_{11} & h_{12} & h_{13} \\\\\n",
    "    h_{21} & h_{22} & h_{23} \\\\\n",
    "    h_{31} & h_{32} & h_{33}\n",
    "    \\end{array}\\right] \\right)\n",
    "\\end{equation}$\n",
    "\n",
    "$\\begin{equation}y_{22} = np.sum\\left(\n",
    "    \\left[\\begin{array}{ccc}\n",
    "    x_{11} & x_{12} & x_{13} \\\\\n",
    "    x_{21} & x_{22} & x_{23} \\\\\n",
    "    x_{31} & x_{32} & x_{33}\n",
    "    \\end{array}\\right] *\n",
    "    \\left[\\begin{array}{ccc}\n",
    "    h_{11} & h_{12} & h_{13} \\\\\n",
    "    h_{21} & h_{22} & h_{23} \\\\\n",
    "    h_{31} & h_{32} & h_{33}\n",
    "    \\end{array}\\right] \\right)\n",
    "\\end{equation}$\n",
    "\n",
    "$\\frac{\\partial L}{\\partial x_{11}}=\\frac{\\partial L}{\\partial y_{11}} \\cdot h_{22}+\\frac{\\partial L}{\\partial y_{12}} \\cdot h_{23}+\\frac{\\partial L}{\\partial y_{21}} \\cdot h_{32}+\\frac{\\partial L}{\\partial y_{22}} \\cdot h_{33}$\n",
    "\n",
    "$\\frac{\\partial L}{\\partial x_{11}}$即目标$Y$对$H$的模板运算的第一步，Padding = 1，Stride = 1。\n",
    "\n",
    "所以，可以推出\n",
    "\n",
    "$\\frac{\\partial L}{\\partial X}=\\operatorname{Convolution2D}\\left(\\frac{\\partial L}{\\partial Y}^{(p a d)}, H\\right)$\n",
    "\n",
    "2) 损失函数相对于模板的导数$\\frac{\\partial L}{\\partial h}$\n",
    "\n",
    "$\\begin{equation}\n",
    "\\frac{\\partial E}{\\partial W}=\\left[\\begin{array}{ccc}\n",
    "\\frac{\\partial E}{\\partial W_{11}} & \\frac{\\partial E}{\\partial W_{12}} & \\frac{\\partial E}{\\partial W_{13}} \\\\\n",
    "\\frac{\\partial E}{\\partial W_{21}} & \\frac{\\partial E}{\\partial W_{22}} & \\frac{\\partial E}{\\partial W_{23}} \\\\\n",
    "\\frac{\\partial E}{\\partial W_{31}} & \\frac{\\partial E}{\\partial W_{32}} & \\frac{\\partial E}{\\partial W_{33}}\n",
    "\\end{array}\\right]\n",
    "\\end{equation}$\n",
    "\n",
    "$\\begin{equation}\n",
    "=\\left[\\begin{array}{ccc}\n",
    "\\sum_{i} \\sum_{j} \\frac{\\partial E}{\\partial Y_{i, j}} \\cdot X_{i+2, j+2}^{p a d} & \\sum_{i} \\sum_{j} \\frac{\\partial E}{\\partial Y_{i, j}} \\cdot X_{i+2, j+1}^{p a d} & \\sum_{i} \\sum_{j} \\frac{\\partial E}{\\partial Y_{i, j}} \\cdot X_{i+2, j}^{p a d} \\\\\n",
    "\\sum_{i} \\sum_{j} \\frac{\\partial E}{\\partial Y_{i, j}} \\cdot X_{i+1, j+2}^{p a d} & \\sum_{i} \\sum_{j} \\frac{\\partial E}{\\partial Y_{i, j}} \\cdot X_{i+1, j+1}^{p a d} & \\sum_{i} \\sum_{j} \\frac{\\partial E}{\\partial Y_{i, j}} \\cdot X_{i+1, j}^{p a d} \\\\\n",
    "\\sum_{i} \\sum_{j} \\frac{\\partial E}{\\partial Y_{i, j}} \\cdot X_{i, j+2}^{p a d} & \\sum_{i} \\sum_{j} \\frac{\\partial E}{\\partial Y_{i, j}} \\cdot X_{i, j+1}^{p a d} & \\sum_{i} \\sum_{j} \\frac{\\partial E}{\\partial Y_{i, j}} \\cdot X_{i, j}^{p a d}\n",
    "\\end{array}\\right]\n",
    "\\end{equation}$\n",
    "\n",
    "即\n",
    "\n",
    "$\\frac{\\partial L}{\\partial H}=\\operatorname{Rot180}\\left( \\operatorname{Convolution2D}\\left(\\frac{\\partial L}{\\partial Y}^{(p a d)}, X\\right)\\right)$\n"
   ],
   "metadata": {
    "collapsed": false,
    "pycharm": {
     "name": "#%% md\n"
    }
   }
  },
  {
   "cell_type": "markdown",
   "metadata": {
    "collapsed": true,
    "pycharm": {
     "name": "#%% md\n"
    }
   },
   "source": [
    "## 2\n",
    "假设现在有一个4x4的具有两个通道的特征如下所示。\n",
    "```\n",
    "f = [[[ 1  2  3  4]\n",
    "      [ 8  7  6  5]\n",
    "      [ 9 10 11 12]\n",
    "      [16 15 14 13]]\n",
    "\n",
    "     [[29 30 31 32]\n",
    "      [28 27 26 25]\n",
    "      [21 22 23 24]\n",
    "      [20 19 18 17]]]\n",
    "```\n",
    "对这个图像采用，如下的模板进行模板运算。\n",
    "```\n",
    "h = [[[[-1  0  1]\n",
    "       [-1  0  1]\n",
    "       [-1  0  1]]\n",
    "      [[-1 -1 -1]\n",
    "       [ 0  0  0]\n",
    "       [ 1  1  1]]]\n",
    "\n",
    "     [[[ 1  0  0]\n",
    "       [ 0  1  0]\n",
    "       [ 0  0  1]]\n",
    "      [[ 0  0  1]\n",
    "       [ 0  1  0]\n",
    "       [ 1  0  0]]]]\n",
    "```"
   ]
  },
  {
   "cell_type": "code",
   "execution_count": 21,
   "outputs": [],
   "source": [
    "import numpy as np\n",
    "\n",
    "# f[c_in, x, y]\n",
    "f = np.asarray([[[1, 2, 3, 4],\n",
    "                 [8, 7, 6, 5],\n",
    "                 [9, 10, 11, 12],\n",
    "                 [16, 15, 14, 13]],\n",
    "                [[29, 30, 31, 32],\n",
    "                 [28, 27, 26, 25],\n",
    "                 [21, 22, 23, 24],\n",
    "                 [20, 19, 18, 17]]])\n",
    "\n",
    "h = np.empty([2, 2, 3, 3])\n",
    "h[0, 0, :, :] = [[-1, 0, 1],\n",
    "                 [-1, 0, 1],\n",
    "                 [-1, 0, 1]]\n",
    "h[0, 1, :, :] = [[-1, -1, -1],\n",
    "                 [0, 0, 0],\n",
    "                 [1, 1, 1]]\n",
    "h[1, 0, :, :] = [[1, 0, 0],\n",
    "                 [0, 1, 0],\n",
    "                 [0, 0, 1]]\n",
    "h[1, 1, :, :] = [[0, 0, 1],\n",
    "                 [0, 1, 0],\n",
    "                 [1, 0, 0]]"
   ],
   "metadata": {
    "collapsed": false,
    "pycharm": {
     "name": "#%%\n"
    }
   }
  },
  {
   "cell_type": "markdown",
   "source": [
    "模板运算采用 Valid 输出尺寸，请问：\n",
    "\n",
    "1）输出记为 conv1 ，请问 conv1 是多少？"
   ],
   "metadata": {
    "collapsed": false
   }
  },
  {
   "cell_type": "code",
   "execution_count": 33,
   "outputs": [
    {
     "name": "stdout",
     "output_type": "stream",
     "text": [
      "conv1 = \n",
      " [[[[  2.   2.]\n",
      "   [ -2.  -2.]]\n",
      "\n",
      "  [[-24. -24.]\n",
      "   [-24. -24.]]]\n",
      "\n",
      "\n",
      " [[[ 19.  20.]\n",
      "   [ 32.  31.]]\n",
      "\n",
      "  [[ 79.  80.]\n",
      "   [ 68.  67.]]]]\n"
     ]
    }
   ],
   "source": [
    "from scipy.signal import convolve2d\n",
    "\n",
    "_, M, N = f.shape\n",
    "# conv1[c_out, c_in, x, y]\n",
    "conv1 = np.empty([2, 2, M - 2, N - 2])\n",
    "for c_out in range(2):\n",
    "    for c_in in range(2):\n",
    "        conv1[c_out, c_in, :, :] = convolve2d(f[c_in, :, :], np.rot90(h[c_out, c_in, :, :], 2), mode=\"valid\")\n",
    "\n",
    "print(\"conv1 = \\n\", conv1)\n",
    "\n",
    "# print(convolve2d(f[0,:,:],np.rot90(h[0,0,:,:],2),\"valid\"))"
   ],
   "metadata": {
    "collapsed": false,
    "pycharm": {
     "name": "#%%\n"
    }
   }
  },
  {
   "cell_type": "markdown",
   "source": [
    "(2) 如果采用 ReLU 对这个输出进行激活，记为 relu1 ，请问激活后 relu1 的值是多\n",
    "少？"
   ],
   "metadata": {
    "collapsed": false,
    "pycharm": {
     "name": "#%% md\n"
    }
   }
  },
  {
   "cell_type": "code",
   "execution_count": 38,
   "outputs": [
    {
     "name": "stdout",
     "output_type": "stream",
     "text": [
      "[[[[ 2.  2.]\n",
      "   [ 0.  0.]]\n",
      "\n",
      "  [[ 0.  0.]\n",
      "   [ 0.  0.]]]\n",
      "\n",
      "\n",
      " [[[19. 20.]\n",
      "   [32. 31.]]\n",
      "\n",
      "  [[79. 80.]\n",
      "   [68. 67.]]]]\n",
      "400.0\n"
     ]
    }
   ],
   "source": [
    "def relu(np_vect):\n",
    "    if np_vect >= 0:\n",
    "        return np_vect\n",
    "    else:\n",
    "        return 0\n",
    "\n",
    "\n",
    "rectification = np.vectorize(relu)\n",
    "relu1 = rectification(conv1)\n",
    "\n",
    "print(relu1)"
   ],
   "metadata": {
    "collapsed": false,
    "pycharm": {
     "name": "#%%\n"
    }
   }
  },
  {
   "cell_type": "markdown",
   "source": [
    "3）如果将输出拉成一列，采用全连接网络，输出节点个数为 5，假设全连接所有权重都设置为 1/10，输出记为fc1 ，请问输出是多少？"
   ],
   "metadata": {
    "collapsed": false,
    "pycharm": {
     "name": "#%% md\n"
    }
   }
  },
  {
   "cell_type": "code",
   "execution_count": 35,
   "outputs": [
    {
     "name": "stdout",
     "output_type": "stream",
     "text": [
      "[40. 40. 40. 40. 40.]\n"
     ]
    }
   ],
   "source": [
    "fc1 = np.zeros([5])\n",
    "weight = 0.1\n",
    "\n",
    "for i in range(5):\n",
    "    for j in relu1.flat:\n",
    "        fc1[i] += weight * j\n",
    "print(fc1)"
   ],
   "metadata": {
    "collapsed": false,
    "pycharm": {
     "name": "#%%\n"
    }
   }
  },
  {
   "cell_type": "markdown",
   "source": [
    "4）假设采用 softmax 对这个 5 个节点的输出进行，概率值记为p=[p1,p2,p3,p4,p5]，\n",
    "请问p是多少？"
   ],
   "metadata": {
    "collapsed": false,
    "pycharm": {
     "name": "#%% md\n"
    }
   }
  },
  {
   "cell_type": "code",
   "execution_count": 36,
   "outputs": [
    {
     "name": "stdout",
     "output_type": "stream",
     "text": [
      "[1.0, 1.0, 1.0, 1.0, 1.0]\n"
     ]
    }
   ],
   "source": [
    "p = np.asarray([1 / (1 + np.exp(-x)) for x in fc1])\n",
    "\n",
    "print(p)"
   ],
   "metadata": {
    "collapsed": false,
    "pycharm": {
     "name": "#%%\n"
    }
   }
  },
  {
   "cell_type": "markdown",
   "source": [
    "5) 如果采用交叉熵对概率进行约束，如下所示\n",
    "\n",
    "$$L=\\sum_{i=1}^{5}-y_{i} \\log p_{i}$$\n",
    "\n",
    "如果$y_{1}=0, y_{2}=0, y_{3}=1, y_{4}=0, y_{5}=0$，请问损失函数是多少？"
   ],
   "metadata": {
    "collapsed": false,
    "pycharm": {
     "name": "#%% md\n"
    }
   }
  },
  {
   "cell_type": "code",
   "execution_count": 42,
   "outputs": [
    {
     "name": "stdout",
     "output_type": "stream",
     "text": [
      "log(p) =  [0. 0. 0. 0. 0.]\n",
      "L =  0.0\n"
     ]
    }
   ],
   "source": [
    "y = np.asarray([0, 0, 1, 0, 0])\n",
    "print(\"log(p) = \", np.log(p))\n",
    "L = np.sum(y * np.log(p))\n",
    "print(\"L = \", L)"
   ],
   "metadata": {
    "collapsed": false,
    "pycharm": {
     "name": "#%%\n"
    }
   }
  },
  {
   "cell_type": "markdown",
   "source": [
    "6) 请问$\\frac{\\partial L}{\\partial p}, \\frac{\\partial L}{\\partial \\mathrm{fc}_{1}}, \\frac{\\partial L}{\\partial \\mathrm{relu}_{1}}, \\frac{\\partial L}{\\partial \\operatorname{conv}_{1}}$分别是多少？"
   ],
   "metadata": {
    "collapsed": false,
    "pycharm": {
     "name": "#%% md\n"
    }
   }
  },
  {
   "cell_type": "markdown",
   "source": [
    "7) 如果把全连接的权重记为$W$，请问$\\frac{\\partial L}{\\partial W}$是多少？"
   ],
   "metadata": {
    "collapsed": false,
    "pycharm": {
     "name": "#%% md\n"
    }
   }
  },
  {
   "cell_type": "markdown",
   "source": [
    "8) 请问$\\frac{\\partial L}{\\partial h}$是多少？"
   ],
   "metadata": {
    "collapsed": false
   }
  }
 ],
 "metadata": {
  "kernelspec": {
   "display_name": "Python 3",
   "language": "python",
   "name": "python3"
  },
  "language_info": {
   "codemirror_mode": {
    "name": "ipython",
    "version": 2
   },
   "file_extension": ".py",
   "mimetype": "text/x-python",
   "name": "python",
   "nbconvert_exporter": "python",
   "pygments_lexer": "ipython2",
   "version": "2.7.6"
  }
 },
 "nbformat": 4,
 "nbformat_minor": 0
}