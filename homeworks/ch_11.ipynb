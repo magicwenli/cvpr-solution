{
 "cells": [
  {
   "cell_type": "markdown",
   "metadata": {
    "collapsed": true,
    "pycharm": {
     "name": "#%% md\n"
    }
   },
   "source": [
    "# 1\n"
   ]
  },
  {
   "cell_type": "markdown",
   "source": [
    "# 2\n",
    "假设现在有一个4x4的具有两个通道的特征如下所示。\n",
    "```\n",
    "f = [[[ 1  2  3  4]\n",
    "      [ 8  7  6  5]\n",
    "      [ 9 10 11 12]\n",
    "      [16 15 14 13]]\n",
    "\n",
    "     [[29 30 31 32]\n",
    "      [28 27 26 25]\n",
    "      [21 22 23 24]\n",
    "      [20 19 18 17]]]\n",
    "```\n",
    "对这个图像采用，如下的模板进行模板运算。\n",
    "```\n",
    "h = [[[[-1  0  1]\n",
    "       [-1  0  1]\n",
    "       [-1  0  1]]\n",
    "      [[-1 -1 -1]\n",
    "       [ 0  0  0]\n",
    "       [ 1  1  1]]]\n",
    "\n",
    "     [[[ 1  0  0]\n",
    "       [ 0  1  0]\n",
    "       [ 0  0  1]]\n",
    "      [[ 0  0  1]\n",
    "       [ 0  1  0]\n",
    "       [ 1  0  0]]]]\n",
    "```"
   ],
   "metadata": {
    "collapsed": false,
    "pycharm": {
     "name": "#%% md\n"
    }
   }
  },
  {
   "cell_type": "code",
   "execution_count": 21,
   "outputs": [],
   "source": [
    "import numpy as np\n",
    "\n",
    "# f[c_in, x, y]\n",
    "f = np.asarray([[[1, 2, 3, 4],\n",
    "                 [8, 7, 6, 5],\n",
    "                 [9, 10, 11, 12],\n",
    "                 [16, 15, 14, 13]],\n",
    "                [[29, 30, 31, 32],\n",
    "                 [28, 27, 26, 25],\n",
    "                 [21, 22, 23, 24],\n",
    "                 [20, 19, 18, 17]]])\n",
    "\n",
    "h = np.empty([2, 2, 3, 3])\n",
    "h[0, 0, :, :] = [[-1, 0, 1],\n",
    "                 [-1, 0, 1],\n",
    "                 [-1, 0, 1]]\n",
    "h[0, 1, :, :] = [[-1, -1, -1],\n",
    "                 [0, 0, 0],\n",
    "                 [1, 1, 1]]\n",
    "h[1, 0, :, :] = [[1, 0, 0],\n",
    "                 [0, 1, 0],\n",
    "                 [0, 0, 1]]\n",
    "h[1, 1, :, :] = [[0, 0, 1],\n",
    "                 [0, 1, 0],\n",
    "                 [1, 0, 0]]"
   ],
   "metadata": {
    "collapsed": false,
    "pycharm": {
     "name": "#%%\n"
    }
   }
  },
  {
   "cell_type": "markdown",
   "source": [
    "模板运算采用 Valid 输出尺寸，请问：\n",
    "\n",
    "1）输出记为 conv1 ，请问 conv1 是多少？"
   ],
   "metadata": {
    "collapsed": false
   }
  },
  {
   "cell_type": "code",
   "execution_count": 33,
   "outputs": [
    {
     "name": "stdout",
     "output_type": "stream",
     "text": [
      "conv1 = \n",
      " [[[[  2.   2.]\n",
      "   [ -2.  -2.]]\n",
      "\n",
      "  [[-24. -24.]\n",
      "   [-24. -24.]]]\n",
      "\n",
      "\n",
      " [[[ 19.  20.]\n",
      "   [ 32.  31.]]\n",
      "\n",
      "  [[ 79.  80.]\n",
      "   [ 68.  67.]]]]\n"
     ]
    }
   ],
   "source": [
    "from scipy.signal import convolve2d\n",
    "\n",
    "_, M, N = f.shape\n",
    "# conv1[c_out, c_in, x, y]\n",
    "conv1 = np.empty([2, 2, M - 2, N - 2])\n",
    "for c_out in range(2):\n",
    "    for c_in in range(2):\n",
    "        conv1[c_out, c_in, :, :] = convolve2d(f[c_in, :, :], np.rot90(h[c_out, c_in, :, :], 2), mode=\"valid\")\n",
    "\n",
    "print(\"conv1 = \\n\", conv1)\n",
    "\n",
    "# print(convolve2d(f[0,:,:],np.rot90(h[0,0,:,:],2),\"valid\"))"
   ],
   "metadata": {
    "collapsed": false,
    "pycharm": {
     "name": "#%%\n"
    }
   }
  },
  {
   "cell_type": "markdown",
   "source": [
    "(2) 如果采用 ReLU 对这个输出进行激活，记为 relu1 ，请问激活后 relu1 的值是多\n",
    "少？"
   ],
   "metadata": {
    "collapsed": false,
    "pycharm": {
     "name": "#%% md\n"
    }
   }
  },
  {
   "cell_type": "code",
   "execution_count": 38,
   "outputs": [
    {
     "name": "stdout",
     "output_type": "stream",
     "text": [
      "[[[[ 2.  2.]\n",
      "   [ 0.  0.]]\n",
      "\n",
      "  [[ 0.  0.]\n",
      "   [ 0.  0.]]]\n",
      "\n",
      "\n",
      " [[[19. 20.]\n",
      "   [32. 31.]]\n",
      "\n",
      "  [[79. 80.]\n",
      "   [68. 67.]]]]\n",
      "400.0\n"
     ]
    }
   ],
   "source": [
    "def relu(np_vect):\n",
    "    if np_vect >= 0:\n",
    "        return np_vect\n",
    "    else:\n",
    "        return 0\n",
    "\n",
    "\n",
    "rectification = np.vectorize(relu)\n",
    "relu1 = rectification(conv1)\n",
    "\n",
    "print(relu1)"
   ],
   "metadata": {
    "collapsed": false,
    "pycharm": {
     "name": "#%%\n"
    }
   }
  },
  {
   "cell_type": "markdown",
   "source": [
    "3）如果将输出拉成一列，采用全连接网络，输出节点个数为 5，假设全连接所有权重都设置为 1/10，输出记为fc1 ，请问输出是多少？"
   ],
   "metadata": {
    "collapsed": false,
    "pycharm": {
     "name": "#%% md\n"
    }
   }
  },
  {
   "cell_type": "code",
   "execution_count": 35,
   "outputs": [
    {
     "name": "stdout",
     "output_type": "stream",
     "text": [
      "[40. 40. 40. 40. 40.]\n"
     ]
    }
   ],
   "source": [
    "fc1 = np.zeros([5])\n",
    "weight = 0.1\n",
    "\n",
    "for i in range(5):\n",
    "    for j in relu1.flat:\n",
    "        fc1[i] += weight * j\n",
    "print(fc1)"
   ],
   "metadata": {
    "collapsed": false,
    "pycharm": {
     "name": "#%%\n"
    }
   }
  },
  {
   "cell_type": "markdown",
   "source": [
    "4）假设采用 softmax 对这个 5 个节点的输出进行，概率值记为p=[p1,p2,p3,p4,p5]，\n",
    "请问p是多少？"
   ],
   "metadata": {
    "collapsed": false,
    "pycharm": {
     "name": "#%% md\n"
    }
   }
  },
  {
   "cell_type": "code",
   "execution_count": 36,
   "outputs": [
    {
     "name": "stdout",
     "output_type": "stream",
     "text": [
      "[1.0, 1.0, 1.0, 1.0, 1.0]\n"
     ]
    }
   ],
   "source": [
    "p = np.asarray([1 / (1 + np.exp(-x)) for x in fc1])\n",
    "\n",
    "print(p)"
   ],
   "metadata": {
    "collapsed": false,
    "pycharm": {
     "name": "#%%\n"
    }
   }
  },
  {
   "cell_type": "markdown",
   "source": [
    "5) 如果采用交叉熵对概率进行约束，如下所示\n",
    "\n",
    "$$L=\\sum_{i=1}^{5}-y_{i} \\log p_{i}$$\n",
    "\n",
    "如果$y_{1}=0, y_{2}=0, y_{3}=1, y_{4}=0, y_{5}=0$，请问损失函数是多少？"
   ],
   "metadata": {
    "collapsed": false,
    "pycharm": {
     "name": "#%% md\n"
    }
   }
  },
  {
   "cell_type": "code",
   "execution_count": 42,
   "outputs": [
    {
     "name": "stdout",
     "output_type": "stream",
     "text": [
      "log(p) =  [0. 0. 0. 0. 0.]\n",
      "L =  0.0\n"
     ]
    }
   ],
   "source": [
    "y = np.asarray([0, 0, 1, 0, 0])\n",
    "print(\"log(p) = \", np.log(p))\n",
    "L = np.sum(y * np.log(p))\n",
    "print(\"L = \", L)"
   ],
   "metadata": {
    "collapsed": false,
    "pycharm": {
     "name": "#%%\n"
    }
   }
  },
  {
   "cell_type": "markdown",
   "source": [
    "6) 请问$\\frac{\\partial L}{\\partial p}, \\frac{\\partial L}{\\partial \\mathrm{fc}_{1}}, \\frac{\\partial L}{\\partial \\mathrm{relu}_{1}}, \\frac{\\partial L}{\\partial \\operatorname{conv}_{1}}$分别是多少？"
   ],
   "metadata": {
    "collapsed": false,
    "pycharm": {
     "name": "#%% md\n"
    }
   }
  },
  {
   "cell_type": "markdown",
   "source": [
    "7) 如果把全连接的权重记为$W$，请问$\\frac{\\partial L}{\\partial W}$是多少？"
   ],
   "metadata": {
    "collapsed": false,
    "pycharm": {
     "name": "#%% md\n"
    }
   }
  },
  {
   "cell_type": "markdown",
   "source": [
    "8) 请问$\\frac{\\partial L}{\\partial h}$是多少？"
   ],
   "metadata": {
    "collapsed": false
   }
  }
 ],
 "metadata": {
  "kernelspec": {
   "display_name": "Python 3",
   "language": "python",
   "name": "python3"
  },
  "language_info": {
   "codemirror_mode": {
    "name": "ipython",
    "version": 2
   },
   "file_extension": ".py",
   "mimetype": "text/x-python",
   "name": "python",
   "nbconvert_exporter": "python",
   "pygments_lexer": "ipython2",
   "version": "2.7.6"
  }
 },
 "nbformat": 4,
 "nbformat_minor": 0
}