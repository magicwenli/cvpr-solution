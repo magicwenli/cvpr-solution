{
 "cells": [
  {
   "cell_type": "markdown",
   "metadata": {
    "collapsed": true,
    "pycharm": {
     "name": "#%% md\n"
    }
   },
   "source": [
    "## 1\n",
    "摄像机一、二:\n",
    "\n",
    "$\\mathrm{P}_{1}=\\mathbf{K}\\left[\\mathbf{I}_{3 \\times 3} \\quad 0_{3 \\times 1}\\right]$\n",
    "\n",
    "$\\mathrm{P}_{2}=\\mathbf{K}\\left[\\begin{array}{ll}\\mathbf{R} & \\mathbf{t}\\end{array}\\right]$\n",
    "\n",
    "其中，旋转矩阵和平移向量分别为：\n",
    "\n",
    "$\\mathrm{R}=\\left[\\begin{array}{ccc}-0.3078 & 0.5930 & 0.7441 \\\\ 0.9145 & 0.4002 & 0.0593 \\\\ -0.2626 & 0.6987 & -0.6655\\end{array}\\right] \\mathrm{t}=\\left[\\begin{array}{c}-0.4111 \\\\ -0.7545 \\\\ 1.8541\\end{array}\\right]$\n",
    "\n",
    "### 1）计算摄像机一和二的中心在世界坐标系下的坐标\n",
    "\n",
    "摄像机一： 0\n",
    "\n",
    "摄像机二： $-R^{T} t = \\left[1.05\\ -0.75\\ 1.58 \\right]^T$\n",
    "\n",
    "### 2} 计算两个摄像机中心的连线在世界坐标系下的坐标\n",
    "\n",
    "$-\\lambda R^Tt = -\\lambda\\left[\\begin{array}{c}1.0503 \\\\ -0.7497 \\\\ 1.5845\\end{array}\\right]$\n",
    "\n",
    "### 3) 计算摄像机一的中心在摄像机二上的投影坐标，摄像机二中心在摄像机一上的投影坐标。\n",
    "\n",
    "$\\left[\\begin{array}{ll}\\mathbf{I} & \\mathbf{0}\\end{array}\\right]\\left[\\begin{array}{c}-R^{T} t \\\\ 1\\end{array}\\right]=-R^{T} t$\n",
    "\n",
    "$t = \\left[\\begin{array}{c}1.05 \\\\ -0.75 \\\\ 1.58\\end{array}\\right]$\n",
    "\n",
    "$\\left[\\begin{array}{ll}R & t\\end{array}\\right]\\left[\\begin{array}{l}0 \\\\ 1\\end{array}\\right]=t=\\left[\\begin{array}{c}-0.4111 \\\\ -0.7545 \\\\ 1.8541\\end{array}\\right]$\n",
    "\n",
    "### 4) 计算摄像机一的图像平面到摄像机二的图像平面的单应矩阵，两个图像之间的单应矩阵要求\n",
    "\n",
    "$\\left[\\begin{array}{c}u_{x} \\\\ u_{y} \\\\ 1\\end{array}\\right]=\\mathbf{H}\\left[\\begin{array}{c}v_{a} \\\\ v_{y} \\\\ 1\\end{array}\\right]$\n",
    "\n",
    "$H=\\left[\\begin{array}{c}a_{1} \\\\ a_{2} \\\\ a_{3}+K t\\end{array}\\right]$\n",
    "\n",
    "### 5） 计算摄像机一到摄像机二的基础矩阵\n",
    "\n",
    "$v^{T} F u=0$\n",
    "\n",
    "$F=K^{-T} \\left[ t\\right]_{\\times} R K^{-1}$\n",
    "\n"
   ]
  }
 ],
 "metadata": {
  "kernelspec": {
   "display_name": "Python 3",
   "language": "python",
   "name": "python3"
  },
  "language_info": {
   "codemirror_mode": {
    "name": "ipython",
    "version": 2
   },
   "file_extension": ".py",
   "mimetype": "text/x-python",
   "name": "python",
   "nbconvert_exporter": "python",
   "pygments_lexer": "ipython2",
   "version": "2.7.6"
  }
 },
 "nbformat": 4,
 "nbformat_minor": 0
}