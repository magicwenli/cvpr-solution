{
 "cells": [
  {
   "cell_type": "markdown",
   "metadata": {
    "collapsed": true,
    "pycharm": {
     "name": "#%% md\n"
    }
   },
   "source": [
    "## 1\n",
    "已知摄像机的内参矩阵如下所示:\n",
    "\n",
    "$\\begin{equation}\n",
    "K=\\left[\\begin{array}{ccc}\n",
    "f & & p_{x} \\\\\n",
    "& f & p_{y} \\\\\n",
    "& & 1\n",
    "\\end{array}\\right]\n",
    "\\end{equation}$\n",
    "\n",
    "### (1)\n",
    "\n",
    "过光心以及图像上一点u（非齐次）的射线在摄像机坐标系下的坐标是多\n",
    "少？\n",
    "\n",
    "$\\lambda\\left[\\begin{array}{c}u_{x} \\\\ u_{y} \\\\ 1\\end{array}\\right]=\\left[\\begin{array}{ccc}f & & p_{x} \\\\ & f & p_{y} \\\\ & & 1\\end{array}\\right]\\left[\\begin{array}{c}X \\\\ Y \\\\ Z\\end{array}\\right]$\n",
    "\n",
    "解得\n",
    "\n",
    "$\\left[\\begin{array}{c}X \\\\ Y \\\\ Z\\end{array}\\right]=\\lambda\\left[\\begin{array}{cc}\\frac{1}{f}& & -\\frac{p_{z}}{f} \\\\ & \\frac{1}{f} & -\\frac{p_{y}}{f} \\\\ & & 1\\end{array}\\right]\\left[\\begin{array}{c}u_{x} \\\\ u_{y} \\\\ 1\\end{array}\\right]=\\lambda\\left[\\begin{array}{c}\\left(u_{x}-p_{x}\\right) / f \\\\ \\left(u_{y}-P_{y}\\right) / f \\\\ 1\\end{array}\\right]$\n",
    "\n",
    "\n",
    "### (2)\n",
    "\n",
    "摄像机内参矩阵K 的逆是什么？\n",
    "\n",
    "$K^{-1}=\\left[\\begin{array}{cc}\\frac{1}{f} & & -\\frac{p_{x}}{f} \\\\ & \\frac{1}{f} & -\\frac{p_{y}}{f} \\\\ & & 1\\end{array}\\right]$\n",
    "\n",
    "### (3)\n",
    "\n",
    "假设以标定板子的左上角为坐标原点，标定板的长宽方向分别对应着世界\n",
    "坐标系的 x 和 y 方向，z 方向定义与垂直于 xy 平面的方向，尝试计算标定板平面\n",
    "到摄像机成像平面的单应矩阵，其中摄像机的外参分别为：\n",
    "\n",
    "$\\mathbf{R}=\\left[\\begin{array}{ccc}-0.4207 & 0.4835 & -0.7676 \\\\ 0.7320 & -0.3190 & -0.6020 \\\\ -0.5360 & -0.8152 & -0.2197\\end{array}\\right] \\quad \\mathbf{t}=\\left[\\begin{array}{c}-0.4031 \\\\ 0.6733 \\\\ 1.5511\\end{array}\\right]$\n",
    "\n",
    "\n",
    "$H=\\left[\\begin{array}{rr}f & & p_{x} \\\\ & f & p_{y} \\\\ & & 1\\end{array}\\right]\\left[\\begin{array}{lll}r_{1} & r_{2} & t\\end{array}\\right]$\n",
    "### (4)\n",
    "\n",
    "如果我们将旋转矩阵R的第1,2,3列分别为r1,r2,r3,我们要求r1·r2=0,并且r1·r1=r2·r2。\n",
    "请问从标定板到摄像机成像平面的透视投影矩阵应该满足什么条件？\n",
    "\n",
    "$P=\\left[\\begin{array}{llll}p_{1} & p_{2} & p_{3} & p_{4}\\end{array}\\right]=\\left[\\begin{array}{cc}f & & p_{x} \\\\ & f & p_{y} \\\\ & & 1\\end{array}\\right]\\left[\\begin{array}{llll}r_{1} & r_{2} & r_{3} & t\\end{array}\\right]$\n",
    "\n",
    "$r_{1}=K^{-1} p_{1}, r_{2}=K^{-1} p_{2}$\n",
    "\n",
    "$p_{1}^{T} K^{-T} K^{-1} p_{2}=0$\n",
    "\n",
    "$p_{1}^{T} K^{-T} K^{-1} p_{1}=p_{2}^{T} K^{-T} K^{-1} p_{2}$\n",
    "\n",
    "### (5)\n",
    "\n",
    "如果利用标定板对摄像机的内部参数进行标定，如果知道摄像机在某个姿\n",
    "态下，标定板到摄像机的单应矩阵为\n",
    "\n",
    "$\\mathrm{H}=\\left[\\begin{array}{ccc}-55.2766 & 139.7806 & 306.6967 \\\\ -4.3942 & 103.3933 & 215.5850 \\\\ -0.1416 & 0.3768 & 1.0000\\end{array}\\right]$\n"
   ]
  }
 ],
 "metadata": {
  "kernelspec": {
   "display_name": "Python 3",
   "language": "python",
   "name": "python3"
  },
  "language_info": {
   "codemirror_mode": {
    "name": "ipython",
    "version": 2
   },
   "file_extension": ".py",
   "mimetype": "text/x-python",
   "name": "python",
   "nbconvert_exporter": "python",
   "pygments_lexer": "ipython2",
   "version": "2.7.6"
  }
 },
 "nbformat": 4,
 "nbformat_minor": 0
}